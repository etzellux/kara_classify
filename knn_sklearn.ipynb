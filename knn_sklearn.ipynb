{
 "cells": [
  {
   "cell_type": "code",
   "execution_count": 1,
   "metadata": {},
   "outputs": [
    {
     "ename": "ModuleNotFoundError",
     "evalue": "No module named 'nltk'",
     "output_type": "error",
     "traceback": [
      "\u001b[0;31m---------------------------------------------------------------------------\u001b[0m",
      "\u001b[0;31mModuleNotFoundError\u001b[0m                       Traceback (most recent call last)",
      "\u001b[1;32m/home/abs/projects/data_mining/kara_classify/knn_sklearn.ipynb Cell 1'\u001b[0m in \u001b[0;36m<cell line: 7>\u001b[0;34m()\u001b[0m\n\u001b[1;32m      <a href='vscode-notebook-cell://wsl%2Bubuntu/home/abs/projects/data_mining/kara_classify/knn_sklearn.ipynb#ch0000000vscode-remote?line=4'>5</a>\u001b[0m \u001b[39mimport\u001b[39;00m \u001b[39mre\u001b[39;00m\n\u001b[1;32m      <a href='vscode-notebook-cell://wsl%2Bubuntu/home/abs/projects/data_mining/kara_classify/knn_sklearn.ipynb#ch0000000vscode-remote?line=5'>6</a>\u001b[0m \u001b[39mimport\u001b[39;00m \u001b[39mstring\u001b[39;00m\n\u001b[0;32m----> <a href='vscode-notebook-cell://wsl%2Bubuntu/home/abs/projects/data_mining/kara_classify/knn_sklearn.ipynb#ch0000000vscode-remote?line=6'>7</a>\u001b[0m \u001b[39mimport\u001b[39;00m \u001b[39mnltk\u001b[39;00m\n\u001b[1;32m      <a href='vscode-notebook-cell://wsl%2Bubuntu/home/abs/projects/data_mining/kara_classify/knn_sklearn.ipynb#ch0000000vscode-remote?line=7'>8</a>\u001b[0m \u001b[39mfrom\u001b[39;00m \u001b[39mnltk\u001b[39;00m\u001b[39m.\u001b[39;00m\u001b[39mcorpus\u001b[39;00m \u001b[39mimport\u001b[39;00m stopwords\n\u001b[1;32m      <a href='vscode-notebook-cell://wsl%2Bubuntu/home/abs/projects/data_mining/kara_classify/knn_sklearn.ipynb#ch0000000vscode-remote?line=8'>9</a>\u001b[0m \u001b[39mfrom\u001b[39;00m \u001b[39mTurkishStemmer\u001b[39;00m \u001b[39mimport\u001b[39;00m TurkishStemmer\n",
      "\u001b[0;31mModuleNotFoundError\u001b[0m: No module named 'nltk'"
     ]
    }
   ],
   "source": [
    "import pandas as pd\n",
    "import numpy as np\n",
    "from numpy import dot\n",
    "from numpy.linalg import norm\n",
    "import re\n",
    "import string\n",
    "import nltk\n",
    "from nltk.corpus import stopwords\n",
    "from TurkishStemmer import TurkishStemmer\n",
    "from sklearn.feature_extraction.text import CountVectorizer\n",
    "from sklearn.neighbors import KNeighborsClassifier\n",
    "from sklearn.model_selection import train_test_split\n",
    "from sklearn.metrics import accuracy_score\n",
    "from sklearn.metrics import recall_score\n",
    "from sklearn.metrics import precision_score\n",
    "from sklearn.metrics import f1_score\n"
   ]
  },
  {
   "cell_type": "code",
   "execution_count": 260,
   "metadata": {},
   "outputs": [],
   "source": [
    "train_percentage = 0.3"
   ]
  },
  {
   "cell_type": "markdown",
   "metadata": {},
   "source": [
    "###### Custom Metric Cosine"
   ]
  },
  {
   "cell_type": "code",
   "execution_count": 261,
   "metadata": {},
   "outputs": [],
   "source": [
    "def cosine_dist(a, b):\n",
    "    cos_sim = dot(a, b)/(norm(a)*norm(b))\n",
    "    return 1 - cos_sim"
   ]
  },
  {
   "cell_type": "markdown",
   "metadata": {},
   "source": [
    "### LOAD DATA"
   ]
  },
  {
   "cell_type": "code",
   "execution_count": 262,
   "metadata": {},
   "outputs": [],
   "source": [
    "FILENAME = \"data/database_kara.csv\"          \n",
    "\n",
    "dataset = pd.read_csv(FILENAME, header = None)\n",
    "\n",
    "dataset.rename(columns = {0:'text', 1:'label'}, inplace = True)\n",
    "\n",
    "dataset.dropna(how='any', inplace=True)\n",
    "dataset.reset_index(drop=True, inplace=True)\n",
    "\n",
    "dataset['en_label'] = dataset[\"label\"]\n",
    "for i in range(dataset.shape[0]):\n",
    "    label = dataset.loc[i,\"en_label\"]\n",
    "    label = re.sub(\"[Yy]\", \"\", label)\n",
    "    # delete rows with wrong type of label\n",
    "    if type(label) == float or label == \"\" or label == \" \":\n",
    "        dataset.drop([i], axis=0, inplace=True)\n",
    "        continue\n",
    "    dataset.loc[i,\"en_label\"] = label\n",
    "    \n",
    "# Shape = (sentence_count, 3) : sentence, label, encoded label"
   ]
  },
  {
   "cell_type": "code",
   "execution_count": 263,
   "metadata": {},
   "outputs": [
    {
     "data": {
      "text/html": [
       "<div>\n",
       "<style scoped>\n",
       "    .dataframe tbody tr th:only-of-type {\n",
       "        vertical-align: middle;\n",
       "    }\n",
       "\n",
       "    .dataframe tbody tr th {\n",
       "        vertical-align: top;\n",
       "    }\n",
       "\n",
       "    .dataframe thead th {\n",
       "        text-align: right;\n",
       "    }\n",
       "</style>\n",
       "<table border=\"1\" class=\"dataframe\">\n",
       "  <thead>\n",
       "    <tr style=\"text-align: right;\">\n",
       "      <th></th>\n",
       "      <th>text</th>\n",
       "      <th>label</th>\n",
       "      <th>en_label</th>\n",
       "    </tr>\n",
       "  </thead>\n",
       "  <tbody>\n",
       "    <tr>\n",
       "      <th>0</th>\n",
       "      <td>Birçok toplum ilham ve sezişlerine rüyalarına ...</td>\n",
       "      <td>Y2</td>\n",
       "      <td>2</td>\n",
       "    </tr>\n",
       "    <tr>\n",
       "      <th>1</th>\n",
       "      <td>Günümüzde Aristo’nun bilimsel bilgisinden fazl...</td>\n",
       "      <td>Y2</td>\n",
       "      <td>2</td>\n",
       "    </tr>\n",
       "    <tr>\n",
       "      <th>2</th>\n",
       "      <td>Bilimin ilerlemesi bilinmeyenler diyarına deva...</td>\n",
       "      <td>Y2</td>\n",
       "      <td>2</td>\n",
       "    </tr>\n",
       "    <tr>\n",
       "      <th>3</th>\n",
       "      <td>İçinde bulunduğumuz kara parçası dünyada birço...</td>\n",
       "      <td>Y1</td>\n",
       "      <td>1</td>\n",
       "    </tr>\n",
       "    <tr>\n",
       "      <th>4</th>\n",
       "      <td>Kara duvara aşkını kazırken düşündüğü şey atmo...</td>\n",
       "      <td>Y2</td>\n",
       "      <td>2</td>\n",
       "    </tr>\n",
       "    <tr>\n",
       "      <th>...</th>\n",
       "      <td>...</td>\n",
       "      <td>...</td>\n",
       "      <td>...</td>\n",
       "    </tr>\n",
       "    <tr>\n",
       "      <th>1514</th>\n",
       "      <td>Şimdi birer düş gibi anımsıyordu bütün bunları...</td>\n",
       "      <td>Y2</td>\n",
       "      <td>2</td>\n",
       "    </tr>\n",
       "    <tr>\n",
       "      <th>1515</th>\n",
       "      <td>Ne kendi kendine ne de akasyaların kara gölges...</td>\n",
       "      <td>Y2</td>\n",
       "      <td>2</td>\n",
       "    </tr>\n",
       "    <tr>\n",
       "      <th>1516</th>\n",
       "      <td>Her zamanki yolundan değil otlaktan geçerek ay...</td>\n",
       "      <td>Y2</td>\n",
       "      <td>2</td>\n",
       "    </tr>\n",
       "    <tr>\n",
       "      <th>1517</th>\n",
       "      <td>Upuzun kara saçları esmer teni dans ettikçe pı...</td>\n",
       "      <td>Y2</td>\n",
       "      <td>2</td>\n",
       "    </tr>\n",
       "    <tr>\n",
       "      <th>1518</th>\n",
       "      <td>Montreuilsurmer eski zamanlardan beri İngiliz ...</td>\n",
       "      <td>Y2</td>\n",
       "      <td>2</td>\n",
       "    </tr>\n",
       "  </tbody>\n",
       "</table>\n",
       "<p>1518 rows × 3 columns</p>\n",
       "</div>"
      ],
      "text/plain": [
       "                                                   text label en_label\n",
       "0     Birçok toplum ilham ve sezişlerine rüyalarına ...    Y2        2\n",
       "1     Günümüzde Aristo’nun bilimsel bilgisinden fazl...    Y2        2\n",
       "2     Bilimin ilerlemesi bilinmeyenler diyarına deva...    Y2        2\n",
       "3     İçinde bulunduğumuz kara parçası dünyada birço...    Y1        1\n",
       "4     Kara duvara aşkını kazırken düşündüğü şey atmo...    Y2        2\n",
       "...                                                 ...   ...      ...\n",
       "1514  Şimdi birer düş gibi anımsıyordu bütün bunları...    Y2        2\n",
       "1515  Ne kendi kendine ne de akasyaların kara gölges...    Y2        2\n",
       "1516  Her zamanki yolundan değil otlaktan geçerek ay...    Y2        2\n",
       "1517  Upuzun kara saçları esmer teni dans ettikçe pı...    Y2        2\n",
       "1518  Montreuilsurmer eski zamanlardan beri İngiliz ...    Y2        2\n",
       "\n",
       "[1518 rows x 3 columns]"
      ]
     },
     "execution_count": 263,
     "metadata": {},
     "output_type": "execute_result"
    }
   ],
   "source": [
    "dataset"
   ]
  },
  {
   "cell_type": "code",
   "execution_count": 264,
   "metadata": {},
   "outputs": [],
   "source": [
    "del dataset[\"label\"]"
   ]
  },
  {
   "cell_type": "code",
   "execution_count": 265,
   "metadata": {},
   "outputs": [],
   "source": [
    "dataset.reset_index(drop=True, inplace=True)"
   ]
  },
  {
   "cell_type": "code",
   "execution_count": 266,
   "metadata": {},
   "outputs": [
    {
     "data": {
      "text/plain": [
       "False"
      ]
     },
     "execution_count": 266,
     "metadata": {},
     "output_type": "execute_result"
    }
   ],
   "source": [
    "dataset.isnull().values.any()"
   ]
  },
  {
   "cell_type": "code",
   "execution_count": 267,
   "metadata": {},
   "outputs": [
    {
     "data": {
      "text/html": [
       "<div>\n",
       "<style scoped>\n",
       "    .dataframe tbody tr th:only-of-type {\n",
       "        vertical-align: middle;\n",
       "    }\n",
       "\n",
       "    .dataframe tbody tr th {\n",
       "        vertical-align: top;\n",
       "    }\n",
       "\n",
       "    .dataframe thead th {\n",
       "        text-align: right;\n",
       "    }\n",
       "</style>\n",
       "<table border=\"1\" class=\"dataframe\">\n",
       "  <thead>\n",
       "    <tr style=\"text-align: right;\">\n",
       "      <th></th>\n",
       "      <th>text</th>\n",
       "      <th>en_label</th>\n",
       "    </tr>\n",
       "  </thead>\n",
       "  <tbody>\n",
       "    <tr>\n",
       "      <th>0</th>\n",
       "      <td>Birçok toplum ilham ve sezişlerine rüyalarına ...</td>\n",
       "      <td>2</td>\n",
       "    </tr>\n",
       "    <tr>\n",
       "      <th>1</th>\n",
       "      <td>Günümüzde Aristo’nun bilimsel bilgisinden fazl...</td>\n",
       "      <td>2</td>\n",
       "    </tr>\n",
       "    <tr>\n",
       "      <th>2</th>\n",
       "      <td>Bilimin ilerlemesi bilinmeyenler diyarına deva...</td>\n",
       "      <td>2</td>\n",
       "    </tr>\n",
       "    <tr>\n",
       "      <th>3</th>\n",
       "      <td>İçinde bulunduğumuz kara parçası dünyada birço...</td>\n",
       "      <td>1</td>\n",
       "    </tr>\n",
       "    <tr>\n",
       "      <th>4</th>\n",
       "      <td>Kara duvara aşkını kazırken düşündüğü şey atmo...</td>\n",
       "      <td>2</td>\n",
       "    </tr>\n",
       "    <tr>\n",
       "      <th>...</th>\n",
       "      <td>...</td>\n",
       "      <td>...</td>\n",
       "    </tr>\n",
       "    <tr>\n",
       "      <th>1513</th>\n",
       "      <td>Şimdi birer düş gibi anımsıyordu bütün bunları...</td>\n",
       "      <td>2</td>\n",
       "    </tr>\n",
       "    <tr>\n",
       "      <th>1514</th>\n",
       "      <td>Ne kendi kendine ne de akasyaların kara gölges...</td>\n",
       "      <td>2</td>\n",
       "    </tr>\n",
       "    <tr>\n",
       "      <th>1515</th>\n",
       "      <td>Her zamanki yolundan değil otlaktan geçerek ay...</td>\n",
       "      <td>2</td>\n",
       "    </tr>\n",
       "    <tr>\n",
       "      <th>1516</th>\n",
       "      <td>Upuzun kara saçları esmer teni dans ettikçe pı...</td>\n",
       "      <td>2</td>\n",
       "    </tr>\n",
       "    <tr>\n",
       "      <th>1517</th>\n",
       "      <td>Montreuilsurmer eski zamanlardan beri İngiliz ...</td>\n",
       "      <td>2</td>\n",
       "    </tr>\n",
       "  </tbody>\n",
       "</table>\n",
       "<p>1518 rows × 2 columns</p>\n",
       "</div>"
      ],
      "text/plain": [
       "                                                   text en_label\n",
       "0     Birçok toplum ilham ve sezişlerine rüyalarına ...        2\n",
       "1     Günümüzde Aristo’nun bilimsel bilgisinden fazl...        2\n",
       "2     Bilimin ilerlemesi bilinmeyenler diyarına deva...        2\n",
       "3     İçinde bulunduğumuz kara parçası dünyada birço...        1\n",
       "4     Kara duvara aşkını kazırken düşündüğü şey atmo...        2\n",
       "...                                                 ...      ...\n",
       "1513  Şimdi birer düş gibi anımsıyordu bütün bunları...        2\n",
       "1514  Ne kendi kendine ne de akasyaların kara gölges...        2\n",
       "1515  Her zamanki yolundan değil otlaktan geçerek ay...        2\n",
       "1516  Upuzun kara saçları esmer teni dans ettikçe pı...        2\n",
       "1517  Montreuilsurmer eski zamanlardan beri İngiliz ...        2\n",
       "\n",
       "[1518 rows x 2 columns]"
      ]
     },
     "execution_count": 267,
     "metadata": {},
     "output_type": "execute_result"
    }
   ],
   "source": [
    "dataset"
   ]
  },
  {
   "cell_type": "markdown",
   "metadata": {},
   "source": [
    "### PREPROCESSING"
   ]
  },
  {
   "cell_type": "code",
   "execution_count": 268,
   "metadata": {},
   "outputs": [],
   "source": [
    "s = set(stopwords.words('turkish'))\n",
    "ps = nltk.wordnet.WordNetLemmatizer()\n",
    "\n",
    "for i in range(dataset.shape[0]):\n",
    "    review = dataset.loc[i,'text']\n",
    "    for punc in string.punctuation:\n",
    "        review.replace(punc, \"\")\n",
    "    review = review.lower()\n",
    "    review = review.split()\n",
    "    review = [ps.lemmatize(word) for word in review if not word in s]\n",
    "    #review = [stemmer.stem(word) for word in review if not word in s]\n",
    "    review = ' '.join(review)\n",
    "    dataset.loc[i, 'text'] = review"
   ]
  },
  {
   "cell_type": "code",
   "execution_count": 269,
   "metadata": {},
   "outputs": [],
   "source": [
    "dataset.dropna(how='any', inplace=True)\n",
    "dataset.reset_index(drop=True, inplace=True)"
   ]
  },
  {
   "cell_type": "code",
   "execution_count": 270,
   "metadata": {},
   "outputs": [
    {
     "data": {
      "text/html": [
       "<div>\n",
       "<style scoped>\n",
       "    .dataframe tbody tr th:only-of-type {\n",
       "        vertical-align: middle;\n",
       "    }\n",
       "\n",
       "    .dataframe tbody tr th {\n",
       "        vertical-align: top;\n",
       "    }\n",
       "\n",
       "    .dataframe thead th {\n",
       "        text-align: right;\n",
       "    }\n",
       "</style>\n",
       "<table border=\"1\" class=\"dataframe\">\n",
       "  <thead>\n",
       "    <tr style=\"text-align: right;\">\n",
       "      <th></th>\n",
       "      <th>text</th>\n",
       "      <th>en_label</th>\n",
       "    </tr>\n",
       "  </thead>\n",
       "  <tbody>\n",
       "    <tr>\n",
       "      <th>0</th>\n",
       "      <td>birçok toplum ilham sezişlerine rüyalarına gai...</td>\n",
       "      <td>2</td>\n",
       "    </tr>\n",
       "    <tr>\n",
       "      <th>1</th>\n",
       "      <td>günümüzde aristo’nun bilimsel bilgisinden fazl...</td>\n",
       "      <td>2</td>\n",
       "    </tr>\n",
       "    <tr>\n",
       "      <th>2</th>\n",
       "      <td>bilimin ilerlemesi bilinmeyenler diyarına deva...</td>\n",
       "      <td>2</td>\n",
       "    </tr>\n",
       "    <tr>\n",
       "      <th>3</th>\n",
       "      <td>i̇çinde bulunduğumuz kara parçası dünyada birç...</td>\n",
       "      <td>1</td>\n",
       "    </tr>\n",
       "    <tr>\n",
       "      <th>4</th>\n",
       "      <td>kara duvara aşkını kazırken düşündüğü atmosfer...</td>\n",
       "      <td>2</td>\n",
       "    </tr>\n",
       "    <tr>\n",
       "      <th>...</th>\n",
       "      <td>...</td>\n",
       "      <td>...</td>\n",
       "    </tr>\n",
       "    <tr>\n",
       "      <th>1513</th>\n",
       "      <td>şimdi birer düş anımsıyordu bütün bunları çarp...</td>\n",
       "      <td>2</td>\n",
       "    </tr>\n",
       "    <tr>\n",
       "      <th>1514</th>\n",
       "      <td>kendi kendine akasyaların kara gölgesinde dişl...</td>\n",
       "      <td>2</td>\n",
       "    </tr>\n",
       "    <tr>\n",
       "      <th>1515</th>\n",
       "      <td>zamanki yolundan değil otlaktan geçerek ay ışı...</td>\n",
       "      <td>2</td>\n",
       "    </tr>\n",
       "    <tr>\n",
       "      <th>1516</th>\n",
       "      <td>upuzun kara saçları esmer teni dans ettikçe pı...</td>\n",
       "      <td>2</td>\n",
       "    </tr>\n",
       "    <tr>\n",
       "      <th>1517</th>\n",
       "      <td>montreuilsurmer eski zamanlardan beri i̇ngiliz...</td>\n",
       "      <td>2</td>\n",
       "    </tr>\n",
       "  </tbody>\n",
       "</table>\n",
       "<p>1518 rows × 2 columns</p>\n",
       "</div>"
      ],
      "text/plain": [
       "                                                   text en_label\n",
       "0     birçok toplum ilham sezişlerine rüyalarına gai...        2\n",
       "1     günümüzde aristo’nun bilimsel bilgisinden fazl...        2\n",
       "2     bilimin ilerlemesi bilinmeyenler diyarına deva...        2\n",
       "3     i̇çinde bulunduğumuz kara parçası dünyada birç...        1\n",
       "4     kara duvara aşkını kazırken düşündüğü atmosfer...        2\n",
       "...                                                 ...      ...\n",
       "1513  şimdi birer düş anımsıyordu bütün bunları çarp...        2\n",
       "1514  kendi kendine akasyaların kara gölgesinde dişl...        2\n",
       "1515  zamanki yolundan değil otlaktan geçerek ay ışı...        2\n",
       "1516  upuzun kara saçları esmer teni dans ettikçe pı...        2\n",
       "1517  montreuilsurmer eski zamanlardan beri i̇ngiliz...        2\n",
       "\n",
       "[1518 rows x 2 columns]"
      ]
     },
     "execution_count": 270,
     "metadata": {},
     "output_type": "execute_result"
    }
   ],
   "source": [
    "dataset"
   ]
  },
  {
   "cell_type": "markdown",
   "metadata": {},
   "source": [
    "###### VECTORIZE TEXT"
   ]
  },
  {
   "cell_type": "code",
   "execution_count": 271,
   "metadata": {},
   "outputs": [],
   "source": [
    "count_vect = CountVectorizer()\n",
    "count_vectors = count_vect.fit_transform(dataset[\"text\"])"
   ]
  },
  {
   "cell_type": "code",
   "execution_count": 272,
   "metadata": {},
   "outputs": [
    {
     "data": {
      "text/plain": [
       "<1518x8525 sparse matrix of type '<class 'numpy.int64'>'\n",
       "\twith 18236 stored elements in Compressed Sparse Row format>"
      ]
     },
     "execution_count": 272,
     "metadata": {},
     "output_type": "execute_result"
    }
   ],
   "source": [
    "count_vectors"
   ]
  },
  {
   "cell_type": "markdown",
   "metadata": {},
   "source": [
    "##### SPLIT DATA"
   ]
  },
  {
   "cell_type": "code",
   "execution_count": 273,
   "metadata": {},
   "outputs": [],
   "source": [
    "X_train, X_test, y_train, y_test = train_test_split(count_vectors, dataset[\"en_label\"], test_size=(1-train_percentage))"
   ]
  },
  {
   "cell_type": "markdown",
   "metadata": {},
   "source": [
    "### MODEL TRAINING"
   ]
  },
  {
   "cell_type": "code",
   "execution_count": 274,
   "metadata": {},
   "outputs": [
    {
     "data": {
      "text/plain": [
       "KNeighborsClassifier(metric='euclidean', n_neighbors=30)"
      ]
     },
     "execution_count": 274,
     "metadata": {},
     "output_type": "execute_result"
    }
   ],
   "source": [
    "model = KNeighborsClassifier(n_neighbors=30, metric=\"euclidean\")\n",
    "model.fit(X_train, y_train)"
   ]
  },
  {
   "cell_type": "code",
   "execution_count": 275,
   "metadata": {},
   "outputs": [],
   "source": [
    "y_predict = model.predict(X_test)"
   ]
  },
  {
   "cell_type": "code",
   "execution_count": 276,
   "metadata": {},
   "outputs": [],
   "source": [
    "y_predict = np.asarray(y_predict, dtype=int)\n",
    "y_test = np.asarray(y_test, dtype=int)"
   ]
  },
  {
   "cell_type": "code",
   "execution_count": 277,
   "metadata": {},
   "outputs": [
    {
     "data": {
      "text/plain": [
       "array([2, 2, 2, ..., 2, 2, 2])"
      ]
     },
     "execution_count": 277,
     "metadata": {},
     "output_type": "execute_result"
    }
   ],
   "source": [
    "y_predict"
   ]
  },
  {
   "cell_type": "code",
   "execution_count": 278,
   "metadata": {},
   "outputs": [
    {
     "data": {
      "text/plain": [
       "0.7808090310442145"
      ]
     },
     "execution_count": 278,
     "metadata": {},
     "output_type": "execute_result"
    }
   ],
   "source": [
    "accuracy_score(y_test,y_predict)"
   ]
  },
  {
   "cell_type": "code",
   "execution_count": 279,
   "metadata": {},
   "outputs": [
    {
     "data": {
      "text/plain": [
       "0.6847031122733207"
      ]
     },
     "execution_count": 279,
     "metadata": {},
     "output_type": "execute_result"
    }
   ],
   "source": [
    "f1_score(y_test, y_predict, average=\"weighted\")"
   ]
  },
  {
   "cell_type": "code",
   "execution_count": null,
   "metadata": {},
   "outputs": [],
   "source": []
  }
 ],
 "metadata": {
  "interpreter": {
   "hash": "e4698063e3e1e0d2617052e15344a47763da88e36b8dae80c72a21248384b0ae"
  },
  "kernelspec": {
   "display_name": "Python 3.9.5 ('dm_venv': venv)",
   "language": "python",
   "name": "python3"
  },
  "language_info": {
   "codemirror_mode": {
    "name": "ipython",
    "version": 3
   },
   "file_extension": ".py",
   "mimetype": "text/x-python",
   "name": "python",
   "nbconvert_exporter": "python",
   "pygments_lexer": "ipython3",
   "version": "3.9.5"
  },
  "orig_nbformat": 4
 },
 "nbformat": 4,
 "nbformat_minor": 2
}
